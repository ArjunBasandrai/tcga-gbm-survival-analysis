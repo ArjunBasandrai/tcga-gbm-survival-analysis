{
 "cells": [
  {
   "cell_type": "code",
   "execution_count": 2,
   "metadata": {},
   "outputs": [],
   "source": [
    "import pandas as pd"
   ]
  },
  {
   "cell_type": "code",
   "execution_count": 3,
   "metadata": {},
   "outputs": [
    {
     "data": {
      "text/html": [
       "<div>\n",
       "<style scoped>\n",
       "    .dataframe tbody tr th:only-of-type {\n",
       "        vertical-align: middle;\n",
       "    }\n",
       "\n",
       "    .dataframe tbody tr th {\n",
       "        vertical-align: top;\n",
       "    }\n",
       "\n",
       "    .dataframe thead th {\n",
       "        text-align: right;\n",
       "    }\n",
       "</style>\n",
       "<table border=\"1\" class=\"dataframe\">\n",
       "  <thead>\n",
       "    <tr style=\"text-align: right;\">\n",
       "      <th>attrib_name</th>\n",
       "      <th>years_to_birth</th>\n",
       "      <th>histological_type</th>\n",
       "      <th>gender</th>\n",
       "      <th>radiation_therapy</th>\n",
       "      <th>race</th>\n",
       "      <th>ethnicity</th>\n",
       "      <th>overall_survival</th>\n",
       "      <th>status</th>\n",
       "      <th>overallsurvival</th>\n",
       "    </tr>\n",
       "  </thead>\n",
       "  <tbody>\n",
       "    <tr>\n",
       "      <th>TCGA.06.6391</th>\n",
       "      <td>44</td>\n",
       "      <td>untreatedprimary(denovo)gbm</td>\n",
       "      <td>female</td>\n",
       "      <td>no</td>\n",
       "      <td>white</td>\n",
       "      <td>nothispanicorlatino</td>\n",
       "      <td>45</td>\n",
       "      <td>1</td>\n",
       "      <td>45,1</td>\n",
       "    </tr>\n",
       "    <tr>\n",
       "      <th>TCGA.19.A6J4</th>\n",
       "      <td>68</td>\n",
       "      <td>glioblastomamultiforme(gbm)</td>\n",
       "      <td>male</td>\n",
       "      <td>NaN</td>\n",
       "      <td>blackorafricanamerican</td>\n",
       "      <td>nothispanicorlatino</td>\n",
       "      <td>121</td>\n",
       "      <td>1</td>\n",
       "      <td>121,1</td>\n",
       "    </tr>\n",
       "    <tr>\n",
       "      <th>TCGA.CS.6665</th>\n",
       "      <td>51</td>\n",
       "      <td>astrocytoma</td>\n",
       "      <td>female</td>\n",
       "      <td>yes</td>\n",
       "      <td>white</td>\n",
       "      <td>nothispanicorlatino</td>\n",
       "      <td>1568</td>\n",
       "      <td>0</td>\n",
       "      <td>1568,0</td>\n",
       "    </tr>\n",
       "    <tr>\n",
       "      <th>TCGA.CS.6670</th>\n",
       "      <td>43</td>\n",
       "      <td>oligodendroglioma</td>\n",
       "      <td>male</td>\n",
       "      <td>NaN</td>\n",
       "      <td>white</td>\n",
       "      <td>nothispanicorlatino</td>\n",
       "      <td>1426</td>\n",
       "      <td>0</td>\n",
       "      <td>1426,0</td>\n",
       "    </tr>\n",
       "    <tr>\n",
       "      <th>TCGA.DB.A4XC</th>\n",
       "      <td>26</td>\n",
       "      <td>oligoastrocytoma</td>\n",
       "      <td>male</td>\n",
       "      <td>yes</td>\n",
       "      <td>white</td>\n",
       "      <td>nothispanicorlatino</td>\n",
       "      <td>1421</td>\n",
       "      <td>0</td>\n",
       "      <td>1421,0</td>\n",
       "    </tr>\n",
       "  </tbody>\n",
       "</table>\n",
       "</div>"
      ],
      "text/plain": [
       "attrib_name  years_to_birth            histological_type  gender  \\\n",
       "TCGA.06.6391             44  untreatedprimary(denovo)gbm  female   \n",
       "TCGA.19.A6J4             68  glioblastomamultiforme(gbm)    male   \n",
       "TCGA.CS.6665             51                  astrocytoma  female   \n",
       "TCGA.CS.6670             43            oligodendroglioma    male   \n",
       "TCGA.DB.A4XC             26             oligoastrocytoma    male   \n",
       "\n",
       "attrib_name  radiation_therapy                    race            ethnicity  \\\n",
       "TCGA.06.6391                no                   white  nothispanicorlatino   \n",
       "TCGA.19.A6J4               NaN  blackorafricanamerican  nothispanicorlatino   \n",
       "TCGA.CS.6665               yes                   white  nothispanicorlatino   \n",
       "TCGA.CS.6670               NaN                   white  nothispanicorlatino   \n",
       "TCGA.DB.A4XC               yes                   white  nothispanicorlatino   \n",
       "\n",
       "attrib_name  overall_survival status overallsurvival  \n",
       "TCGA.06.6391               45      1            45,1  \n",
       "TCGA.19.A6J4              121      1           121,1  \n",
       "TCGA.CS.6665             1568      0          1568,0  \n",
       "TCGA.CS.6670             1426      0          1426,0  \n",
       "TCGA.DB.A4XC             1421      0          1421,0  "
      ]
     },
     "execution_count": 3,
     "metadata": {},
     "output_type": "execute_result"
    }
   ],
   "source": [
    "df = pd.read_csv('../data/Clinical.csv').T\n",
    "df.columns = df.iloc[1]\n",
    "df = df[2:]\n",
    "df.head()"
   ]
  },
  {
   "cell_type": "code",
   "execution_count": 4,
   "metadata": {},
   "outputs": [],
   "source": [
    "df = df.drop(['overallsurvival', 'ethnicity', 'radiation_therapy', 'race'], axis=1)\n",
    "df.dropna(inplace=True)"
   ]
  },
  {
   "cell_type": "code",
   "execution_count": 5,
   "metadata": {},
   "outputs": [
    {
     "data": {
      "text/plain": [
       "attrib_name\n",
       "years_to_birth       0\n",
       "histological_type    0\n",
       "gender               0\n",
       "overall_survival     0\n",
       "status               0\n",
       "dtype: int64"
      ]
     },
     "execution_count": 5,
     "metadata": {},
     "output_type": "execute_result"
    }
   ],
   "source": [
    "df.isna().sum()"
   ]
  },
  {
   "cell_type": "code",
   "execution_count": 6,
   "metadata": {},
   "outputs": [
    {
     "data": {
      "text/html": [
       "<div>\n",
       "<style scoped>\n",
       "    .dataframe tbody tr th:only-of-type {\n",
       "        vertical-align: middle;\n",
       "    }\n",
       "\n",
       "    .dataframe tbody tr th {\n",
       "        vertical-align: top;\n",
       "    }\n",
       "\n",
       "    .dataframe thead th {\n",
       "        text-align: right;\n",
       "    }\n",
       "</style>\n",
       "<table border=\"1\" class=\"dataframe\">\n",
       "  <thead>\n",
       "    <tr style=\"text-align: right;\">\n",
       "      <th>attrib_name</th>\n",
       "      <th>A1CF</th>\n",
       "      <th>A2BP1</th>\n",
       "      <th>A2M</th>\n",
       "      <th>A2ML1</th>\n",
       "      <th>AACS</th>\n",
       "      <th>AADACL2</th>\n",
       "      <th>AADACL4</th>\n",
       "      <th>AARS</th>\n",
       "      <th>AATF</th>\n",
       "      <th>ABCA1</th>\n",
       "      <th>...</th>\n",
       "      <th>ZSCAN29</th>\n",
       "      <th>ZSCAN5A</th>\n",
       "      <th>ZSCAN5B</th>\n",
       "      <th>ZSWIM2</th>\n",
       "      <th>ZSWIM5</th>\n",
       "      <th>ZW10</th>\n",
       "      <th>ZXDB</th>\n",
       "      <th>ZXDC</th>\n",
       "      <th>ZZEF1</th>\n",
       "      <th>ZZZ3</th>\n",
       "    </tr>\n",
       "  </thead>\n",
       "  <tbody>\n",
       "    <tr>\n",
       "      <th>TCGA.06.5411</th>\n",
       "      <td>0</td>\n",
       "      <td>0</td>\n",
       "      <td>0</td>\n",
       "      <td>0</td>\n",
       "      <td>0</td>\n",
       "      <td>0</td>\n",
       "      <td>0</td>\n",
       "      <td>0</td>\n",
       "      <td>0</td>\n",
       "      <td>0</td>\n",
       "      <td>...</td>\n",
       "      <td>0</td>\n",
       "      <td>0</td>\n",
       "      <td>0</td>\n",
       "      <td>0</td>\n",
       "      <td>0</td>\n",
       "      <td>0</td>\n",
       "      <td>0</td>\n",
       "      <td>0</td>\n",
       "      <td>0</td>\n",
       "      <td>0</td>\n",
       "    </tr>\n",
       "    <tr>\n",
       "      <th>TCGA.FG.A711</th>\n",
       "      <td>0</td>\n",
       "      <td>0</td>\n",
       "      <td>0</td>\n",
       "      <td>0</td>\n",
       "      <td>0</td>\n",
       "      <td>0</td>\n",
       "      <td>0</td>\n",
       "      <td>0</td>\n",
       "      <td>0</td>\n",
       "      <td>0</td>\n",
       "      <td>...</td>\n",
       "      <td>0</td>\n",
       "      <td>0</td>\n",
       "      <td>0</td>\n",
       "      <td>0</td>\n",
       "      <td>0</td>\n",
       "      <td>0</td>\n",
       "      <td>0</td>\n",
       "      <td>0</td>\n",
       "      <td>0</td>\n",
       "      <td>0</td>\n",
       "    </tr>\n",
       "    <tr>\n",
       "      <th>TCGA.06.2558</th>\n",
       "      <td>1</td>\n",
       "      <td>0</td>\n",
       "      <td>0</td>\n",
       "      <td>0</td>\n",
       "      <td>0</td>\n",
       "      <td>0</td>\n",
       "      <td>1</td>\n",
       "      <td>0</td>\n",
       "      <td>0</td>\n",
       "      <td>0</td>\n",
       "      <td>...</td>\n",
       "      <td>0</td>\n",
       "      <td>0</td>\n",
       "      <td>0</td>\n",
       "      <td>0</td>\n",
       "      <td>0</td>\n",
       "      <td>0</td>\n",
       "      <td>0</td>\n",
       "      <td>0</td>\n",
       "      <td>0</td>\n",
       "      <td>0</td>\n",
       "    </tr>\n",
       "    <tr>\n",
       "      <th>TCGA.14.0813</th>\n",
       "      <td>1</td>\n",
       "      <td>0</td>\n",
       "      <td>0</td>\n",
       "      <td>0</td>\n",
       "      <td>0</td>\n",
       "      <td>0</td>\n",
       "      <td>0</td>\n",
       "      <td>0</td>\n",
       "      <td>0</td>\n",
       "      <td>0</td>\n",
       "      <td>...</td>\n",
       "      <td>0</td>\n",
       "      <td>0</td>\n",
       "      <td>0</td>\n",
       "      <td>0</td>\n",
       "      <td>0</td>\n",
       "      <td>0</td>\n",
       "      <td>0</td>\n",
       "      <td>0</td>\n",
       "      <td>0</td>\n",
       "      <td>0</td>\n",
       "    </tr>\n",
       "    <tr>\n",
       "      <th>TCGA.27.1833</th>\n",
       "      <td>1</td>\n",
       "      <td>0</td>\n",
       "      <td>0</td>\n",
       "      <td>0</td>\n",
       "      <td>0</td>\n",
       "      <td>0</td>\n",
       "      <td>0</td>\n",
       "      <td>0</td>\n",
       "      <td>0</td>\n",
       "      <td>0</td>\n",
       "      <td>...</td>\n",
       "      <td>0</td>\n",
       "      <td>0</td>\n",
       "      <td>0</td>\n",
       "      <td>0</td>\n",
       "      <td>0</td>\n",
       "      <td>0</td>\n",
       "      <td>0</td>\n",
       "      <td>0</td>\n",
       "      <td>0</td>\n",
       "      <td>0</td>\n",
       "    </tr>\n",
       "  </tbody>\n",
       "</table>\n",
       "<p>5 rows × 5492 columns</p>\n",
       "</div>"
      ],
      "text/plain": [
       "attrib_name  A1CF A2BP1 A2M A2ML1 AACS AADACL2 AADACL4 AARS AATF ABCA1  ...  \\\n",
       "TCGA.06.5411    0     0   0     0    0       0       0    0    0     0  ...   \n",
       "TCGA.FG.A711    0     0   0     0    0       0       0    0    0     0  ...   \n",
       "TCGA.06.2558    1     0   0     0    0       0       1    0    0     0  ...   \n",
       "TCGA.14.0813    1     0   0     0    0       0       0    0    0     0  ...   \n",
       "TCGA.27.1833    1     0   0     0    0       0       0    0    0     0  ...   \n",
       "\n",
       "attrib_name  ZSCAN29 ZSCAN5A ZSCAN5B ZSWIM2 ZSWIM5 ZW10 ZXDB ZXDC ZZEF1 ZZZ3  \n",
       "TCGA.06.5411       0       0       0      0      0    0    0    0     0    0  \n",
       "TCGA.FG.A711       0       0       0      0      0    0    0    0     0    0  \n",
       "TCGA.06.2558       0       0       0      0      0    0    0    0     0    0  \n",
       "TCGA.14.0813       0       0       0      0      0    0    0    0     0    0  \n",
       "TCGA.27.1833       0       0       0      0      0    0    0    0     0    0  \n",
       "\n",
       "[5 rows x 5492 columns]"
      ]
     },
     "execution_count": 6,
     "metadata": {},
     "output_type": "execute_result"
    }
   ],
   "source": [
    "mutation_df = pd.read_csv('../data/Mutation.csv').T\n",
    "mutation_df.columns = mutation_df.iloc[1]\n",
    "mutation_df = mutation_df[2:]\n",
    "mutation_df.head()"
   ]
  },
  {
   "cell_type": "code",
   "execution_count": 7,
   "metadata": {},
   "outputs": [
    {
     "data": {
      "text/plain": [
       "(799, 5492)"
      ]
     },
     "execution_count": 7,
     "metadata": {},
     "output_type": "execute_result"
    }
   ],
   "source": [
    "mutation_df.shape"
   ]
  },
  {
   "cell_type": "code",
   "execution_count": 11,
   "metadata": {},
   "outputs": [
    {
     "data": {
      "text/html": [
       "<div>\n",
       "<style scoped>\n",
       "    .dataframe tbody tr th:only-of-type {\n",
       "        vertical-align: middle;\n",
       "    }\n",
       "\n",
       "    .dataframe tbody tr th {\n",
       "        vertical-align: top;\n",
       "    }\n",
       "\n",
       "    .dataframe thead th {\n",
       "        text-align: right;\n",
       "    }\n",
       "</style>\n",
       "<table border=\"1\" class=\"dataframe\">\n",
       "  <thead>\n",
       "    <tr style=\"text-align: right;\">\n",
       "      <th>attrib_name</th>\n",
       "      <th>PatientID</th>\n",
       "      <th>years_to_birth</th>\n",
       "      <th>histological_type</th>\n",
       "      <th>gender</th>\n",
       "      <th>overall_survival</th>\n",
       "      <th>status</th>\n",
       "    </tr>\n",
       "  </thead>\n",
       "  <tbody>\n",
       "    <tr>\n",
       "      <th>0</th>\n",
       "      <td>TCGA.06.6391</td>\n",
       "      <td>44</td>\n",
       "      <td>untreatedprimary(denovo)gbm</td>\n",
       "      <td>female</td>\n",
       "      <td>45</td>\n",
       "      <td>1</td>\n",
       "    </tr>\n",
       "    <tr>\n",
       "      <th>1</th>\n",
       "      <td>TCGA.19.A6J4</td>\n",
       "      <td>68</td>\n",
       "      <td>glioblastomamultiforme(gbm)</td>\n",
       "      <td>male</td>\n",
       "      <td>121</td>\n",
       "      <td>1</td>\n",
       "    </tr>\n",
       "    <tr>\n",
       "      <th>2</th>\n",
       "      <td>TCGA.CS.6665</td>\n",
       "      <td>51</td>\n",
       "      <td>astrocytoma</td>\n",
       "      <td>female</td>\n",
       "      <td>1568</td>\n",
       "      <td>0</td>\n",
       "    </tr>\n",
       "    <tr>\n",
       "      <th>3</th>\n",
       "      <td>TCGA.CS.6670</td>\n",
       "      <td>43</td>\n",
       "      <td>oligodendroglioma</td>\n",
       "      <td>male</td>\n",
       "      <td>1426</td>\n",
       "      <td>0</td>\n",
       "    </tr>\n",
       "    <tr>\n",
       "      <th>4</th>\n",
       "      <td>TCGA.DB.A4XC</td>\n",
       "      <td>26</td>\n",
       "      <td>oligoastrocytoma</td>\n",
       "      <td>male</td>\n",
       "      <td>1421</td>\n",
       "      <td>0</td>\n",
       "    </tr>\n",
       "  </tbody>\n",
       "</table>\n",
       "</div>"
      ],
      "text/plain": [
       "attrib_name     PatientID years_to_birth            histological_type  gender  \\\n",
       "0            TCGA.06.6391             44  untreatedprimary(denovo)gbm  female   \n",
       "1            TCGA.19.A6J4             68  glioblastomamultiforme(gbm)    male   \n",
       "2            TCGA.CS.6665             51                  astrocytoma  female   \n",
       "3            TCGA.CS.6670             43            oligodendroglioma    male   \n",
       "4            TCGA.DB.A4XC             26             oligoastrocytoma    male   \n",
       "\n",
       "attrib_name overall_survival status  \n",
       "0                         45      1  \n",
       "1                        121      1  \n",
       "2                       1568      0  \n",
       "3                       1426      0  \n",
       "4                       1421      0  "
      ]
     },
     "execution_count": 11,
     "metadata": {},
     "output_type": "execute_result"
    }
   ],
   "source": [
    "df.reset_index().rename(columns={'index': 'PatientID'}).head().reset_index(drop=True)"
   ]
  },
  {
   "cell_type": "code",
   "execution_count": 12,
   "metadata": {},
   "outputs": [
    {
     "data": {
      "text/plain": [
       "status\n",
       "1    595\n",
       "0    452\n",
       "Name: count, dtype: int64"
      ]
     },
     "execution_count": 12,
     "metadata": {},
     "output_type": "execute_result"
    }
   ],
   "source": [
    "df['status'].value_counts()"
   ]
  },
  {
   "cell_type": "code",
   "execution_count": 25,
   "metadata": {},
   "outputs": [
    {
     "data": {
      "image/png": "[encoded data removed]",
      "text/plain": [
       "<Figure size 640x480 with 1 Axes>"
      ]
     },
     "metadata": {},
     "output_type": "display_data"
    }
   ],
   "source": [
    "import matplotlib.pyplot as plt\n",
    "\n",
    "df['histological_type'].value_counts().plot(kind='bar')\n",
    "plt.show()"
   ]
  },
  {
   "cell_type": "code",
   "execution_count": 40,
   "metadata": {},
   "outputs": [
    {
     "data": {
      "text/html": [
       "<div>\n",
       "<style scoped>\n",
       "    .dataframe tbody tr th:only-of-type {\n",
       "        vertical-align: middle;\n",
       "    }\n",
       "\n",
       "    .dataframe tbody tr th {\n",
       "        vertical-align: top;\n",
       "    }\n",
       "\n",
       "    .dataframe thead th {\n",
       "        text-align: right;\n",
       "    }\n",
       "</style>\n",
       "<table border=\"1\" class=\"dataframe\">\n",
       "  <thead>\n",
       "    <tr style=\"text-align: right;\">\n",
       "      <th></th>\n",
       "      <th>histological_type</th>\n",
       "      <th>count</th>\n",
       "    </tr>\n",
       "  </thead>\n",
       "  <tbody>\n",
       "    <tr>\n",
       "      <th>0</th>\n",
       "      <td>5</td>\n",
       "      <td>518</td>\n",
       "    </tr>\n",
       "    <tr>\n",
       "      <th>1</th>\n",
       "      <td>0</td>\n",
       "      <td>180</td>\n",
       "    </tr>\n",
       "    <tr>\n",
       "      <th>2</th>\n",
       "      <td>3</td>\n",
       "      <td>173</td>\n",
       "    </tr>\n",
       "    <tr>\n",
       "      <th>3</th>\n",
       "      <td>2</td>\n",
       "      <td>127</td>\n",
       "    </tr>\n",
       "    <tr>\n",
       "      <th>4</th>\n",
       "      <td>1</td>\n",
       "      <td>29</td>\n",
       "    </tr>\n",
       "    <tr>\n",
       "      <th>5</th>\n",
       "      <td>4</td>\n",
       "      <td>20</td>\n",
       "    </tr>\n",
       "  </tbody>\n",
       "</table>\n",
       "</div>"
      ],
      "text/plain": [
       "   histological_type  count\n",
       "0                  5    518\n",
       "1                  0    180\n",
       "2                  3    173\n",
       "3                  2    127\n",
       "4                  1     29\n",
       "5                  4     20"
      ]
     },
     "execution_count": 40,
     "metadata": {},
     "output_type": "execute_result"
    }
   ],
   "source": [
    "df['histological_type'].value_counts().reset_index()"
   ]
  },
  {
   "cell_type": "code",
   "execution_count": 27,
   "metadata": {},
   "outputs": [],
   "source": [
    "from sklearn.preprocessing import LabelEncoder\n",
    "\n",
    "le = LabelEncoder()\n",
    "\n",
    "df['histological_type'] = le.fit_transform(df['histological_type'])"
   ]
  },
  {
   "cell_type": "code",
   "execution_count": 37,
   "metadata": {},
   "outputs": [
    {
     "data": {
      "text/plain": [
       "<Axes: xlabel='attrib_name', ylabel='attrib_name'>"
      ]
     },
     "execution_count": 37,
     "metadata": {},
     "output_type": "execute_result"
    },
    {
     "data": {
      "image/png": "[encoded data removed]",
      "text/plain": [
       "<Figure size 640x480 with 2 Axes>"
      ]
     },
     "metadata": {},
     "output_type": "display_data"
    }
   ],
   "source": [
    "import seaborn as sns\n",
    "\n",
    "sns.heatmap(df[['histological_type', 'overall_survival']].corr(), annot=True, cmap='magma')"
   ]
  },
  {
   "cell_type": "code",
   "execution_count": null,
   "metadata": {},
   "outputs": [],
   "source": []
  }
 ],
 "metadata": {
  "kernelspec": {
   "display_name": "tcga-paad",
   "language": "python",
   "name": "python3"
  },
  "language_info": {
   "codemirror_mode": {
    "name": "ipython",
    "version": 3
   },
   "file_extension": ".py",
   "mimetype": "text/x-python",
   "name": "python",
   "nbconvert_exporter": "python",
   "pygments_lexer": "ipython3",
   "version": "3.10.12"
  }
 },
 "nbformat": 4,
 "nbformat_minor": 2
}
